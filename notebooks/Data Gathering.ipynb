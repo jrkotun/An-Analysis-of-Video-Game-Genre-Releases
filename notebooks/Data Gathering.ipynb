{
 "cells": [
  {
   "cell_type": "code",
   "execution_count": 1,
   "metadata": {},
   "outputs": [],
   "source": [
    "import pandas as pd\n",
    "import re\n",
    "import requests\n",
    "from bs4 import BeautifulSoup as BS\n",
    "import time\n",
    "import math"
   ]
  },
  {
   "cell_type": "code",
   "execution_count": 2,
   "metadata": {},
   "outputs": [],
   "source": [
    "# Initialize genre list, column name list, and empty dataframe to hold scraped data\n",
    "genres = [\"Action\", \"Action-Adventure\", \"Adventure\", \"Board Game\", \"Education\", \"Fighting\", \"Misc\", \"MMO\", \"Music\", \"Party\",\n",
    "          \"Platform\", \"Puzzle\", \"Racing\", \"Role-Playing\", \"Sandbox\", \"Shooter\", \"Simulation\", \"Sports\", \"Strategy\", \n",
    "          \"Visual Novel\"]\n",
    "\n",
    "column_names = [\"Game\", \"Publisher\", \"Developer\", \"Total Shipped\", \"Total Sales\", \"NA Sales\", \"PAL Sales\", \n",
    "                \"Japan Sales\", \"Other Sales\", \"Release Date\", \"Genre\"]\n",
    "\n",
    "game_data = pd.DataFrame()\n",
    "\n",
    "# Base URL that will be modified to scrape the page of each genre\n",
    "baseURL = \"https://www.vgchartz.com/games/games.php?page={}&results={}&genre={}&order=ReleaseDate&ownership=Both&direction=DESC&showtotalsales=1&shownasales=1&showpalsales=1&showjapansales=1&showothersales=1&showpublisher=1&showdeveloper=1&showreleasedate=1&showlastupdate=0&showvgchartzscore=0&showcriticscore=0&showuserscore=0&showshipped=1\""
   ]
  },
  {
   "cell_type": "code",
   "execution_count": 3,
   "metadata": {},
   "outputs": [],
   "source": [
    "# for loop that will filter through each genre's data and scrape it\n",
    "for genre in genres:\n",
    "    page_counter = 1\n",
    "    \n",
    "    # Remove whitespace from genre so URL will work\n",
    "    if \" \" in genre:\n",
    "        genre = genre.replace(\" \", \"+\")\n",
    "        \n",
    "    # Determine how many webpages there are for the current genre\n",
    "    URL = baseURL.format(page_counter, 1, genre)\n",
    "    response = requests.get(URL)\n",
    "    soup = BS(response.text)\n",
    "    temp_df = pd.read_html(str(soup.find(\"table\")))[6]\n",
    "    comma_removed = temp_df.columns[0][0].replace(\",\",\"\")\n",
    "    genre_entries = int(re.findall(r'\\d+', comma_removed)[0])\n",
    "    number_of_pages = math.ceil(genre_entries / 200)\n",
    "    \n",
    "    # Scrape each webpage for the current genre and concat to game_data dataframe\n",
    "    while page_counter <= number_of_pages:\n",
    "        URL = baseURL.format(page_counter, 200, genre)\n",
    "        response = requests.get(URL)\n",
    "        soup = BS(response.text)\n",
    "        temp_df = pd.read_html(str(soup.find(\"table\")))[6]\n",
    "        \n",
    "        if \"+\" in genre:\n",
    "            genre = genre.replace(\"+\", \" \")\n",
    "        \n",
    "        temp_df['Genre'] = genre\n",
    "        temp_df.drop(temp_df.columns[[0, 1, 3, 13]], axis = 1, inplace = True)\n",
    "        temp_df.columns = column_names\n",
    "        game_data = pd.concat([game_data, temp_df], ignore_index = True)\n",
    "        \n",
    "        page_counter += 1"
   ]
  },
  {
   "cell_type": "code",
   "execution_count": 4,
   "metadata": {},
   "outputs": [],
   "source": [
    "# Export game_data dataframe as a csv\n",
    "game_data.to_csv('../data/game_data.csv', index=False)"
   ]
  }
 ],
 "metadata": {
  "kernelspec": {
   "display_name": "Python 3",
   "language": "python",
   "name": "python3"
  },
  "language_info": {
   "codemirror_mode": {
    "name": "ipython",
    "version": 3
   },
   "file_extension": ".py",
   "mimetype": "text/x-python",
   "name": "python",
   "nbconvert_exporter": "python",
   "pygments_lexer": "ipython3",
   "version": "3.8.5"
  }
 },
 "nbformat": 4,
 "nbformat_minor": 4
}
