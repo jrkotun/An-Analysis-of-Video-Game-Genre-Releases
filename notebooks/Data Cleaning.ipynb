{
 "cells": [
  {
   "cell_type": "code",
   "execution_count": 1,
   "metadata": {},
   "outputs": [],
   "source": [
    "import pandas as pd\n",
    "from datetime import datetime\n",
    "import re"
   ]
  },
  {
   "cell_type": "code",
   "execution_count": 2,
   "metadata": {},
   "outputs": [],
   "source": [
    "# Read in game_data.csv\n",
    "game_data = pd.read_csv('../data/game_data_raw.csv')"
   ]
  },
  {
   "cell_type": "code",
   "execution_count": 3,
   "metadata": {},
   "outputs": [],
   "source": [
    "# Drop games without a release date\n",
    "game_data = game_data.dropna(subset=['Release Date'])"
   ]
  },
  {
   "cell_type": "code",
   "execution_count": 4,
   "metadata": {},
   "outputs": [],
   "source": [
    "# Change Release Date column to datetime type\n",
    "extracted_date = game_data['Release Date'].str.extract(r'(\\d+)\\w+(\\s\\w+\\s\\d+)')\n",
    "extracted_date = extracted_date[0] + extracted_date[1]\n",
    "game_data['Release Date'] = pd.to_datetime(extracted_date)"
   ]
  },
  {
   "cell_type": "code",
   "execution_count": 5,
   "metadata": {},
   "outputs": [],
   "source": [
    "# Function to turn values in sales columns into numeric types\n",
    "def sales_transformation(column):\n",
    "    extracted_sales = column.str.extract(r'(\\d\\.\\d+)').fillna(0)\n",
    "    extracted_sales = pd.to_numeric(extracted_sales[0]) * 1000000\n",
    "    return extracted_sales"
   ]
  },
  {
   "cell_type": "code",
   "execution_count": 6,
   "metadata": {},
   "outputs": [],
   "source": [
    "# Transform values in sales columns to numeric type\n",
    "game_data['Total Shipped'] = sales_transformation(game_data['Total Shipped'])\n",
    "game_data['Total Sales'] = sales_transformation(game_data['Total Sales'])\n",
    "game_data['NA Sales'] = sales_transformation(game_data['NA Sales'])\n",
    "game_data['PAL Sales'] = sales_transformation(game_data['PAL Sales'])\n",
    "game_data['Japan Sales'] = sales_transformation(game_data['Japan Sales'])\n",
    "game_data['Other Sales'] = sales_transformation(game_data['Other Sales'])"
   ]
  },
  {
   "cell_type": "code",
   "execution_count": 7,
   "metadata": {},
   "outputs": [],
   "source": [
    "# Remove duplicate games based on game title and release date\n",
    "game_data = game_data.drop_duplicates(subset=['Game', 'Release Date'])"
   ]
  },
  {
   "cell_type": "code",
   "execution_count": 8,
   "metadata": {},
   "outputs": [],
   "source": [
    "# Export cleaned game_data dataframe as a csv\n",
    "game_data.to_csv('../data/game_data_cleaned.csv', index=False)"
   ]
  },
  {
   "cell_type": "markdown",
   "metadata": {},
   "source": [
    "------Below cells for data analysis portion---------------"
   ]
  },
  {
   "cell_type": "markdown",
   "metadata": {},
   "source": [
    "New Analysis Questions Brainstorming\n",
    "1. How have video game genres changed over time?\n",
    "2. Are certain video game genres released on certain months each year?\n",
    "3. Has the overall trend of the industry caused some developers/publishers to move towards the popular genres of the past couple of years?"
   ]
  },
  {
   "cell_type": "code",
   "execution_count": 9,
   "metadata": {
    "scrolled": true
   },
   "outputs": [],
   "source": [
    "# Create dataframe without sales data to examine\n",
    "game_data_no_sales = game_data.drop(columns=['Total Shipped', 'Total Sales', 'NA Sales', 'PAL Sales', \n",
    "                                             'Japan Sales', 'Other Sales'])"
   ]
  }
 ],
 "metadata": {
  "kernelspec": {
   "display_name": "Python 3",
   "language": "python",
   "name": "python3"
  },
  "language_info": {
   "codemirror_mode": {
    "name": "ipython",
    "version": 3
   },
   "file_extension": ".py",
   "mimetype": "text/x-python",
   "name": "python",
   "nbconvert_exporter": "python",
   "pygments_lexer": "ipython3",
   "version": "3.8.5"
  }
 },
 "nbformat": 4,
 "nbformat_minor": 4
}
